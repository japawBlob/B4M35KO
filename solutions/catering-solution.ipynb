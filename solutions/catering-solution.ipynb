{
 "cells": [
  {
   "cell_type": "markdown",
   "metadata": {},
   "source": [
    "# The Catering Problem\n",
    "\n",
    "## Motivation\n",
    "\n",
    "A catering company to cook $n$ dishes, but has only one available oven.\n",
    "    At most a single dish can be inside the oven at one time.    \n",
    "    Each dish $i$ has its earliest time when it can be put into the oven $r_i$ (since it needs to be prepared before it is put into the oven), the latest time it should be taken from the oven $d_i$ (since the customers do not want to wait too long), and the time it needs to stay in the oven $p_i$.\n",
    "    The goal is to find the vector of times $\\mathbf{s} = (s_0, \\dots, s_{n-1})$ (denoting the times when each dish is put into the oven) such that the finish time of the last dish is minimal.\n",
    "    \n",
    "## Input\n",
    "\n",
    "You are given the following:\n",
    "* number of dished $n$\n",
    "* parameters $r_i$, $d_i$ and $p_i$ for each dish $i$\n",
    "\n",
    "For the testing purposes, you can experiment with the following instance:"
   ]
  },
  {
   "cell_type": "code",
   "execution_count": 1,
   "metadata": {},
   "outputs": [],
   "source": [
    "n = 5\n",
    "params = {\n",
    "    0: {'r': 20, 'd': 45, 'p': 15},\n",
    "    1: {'r':  4, 'd': 30, 'p': 19},\n",
    "    2: {'r':  5, 'd': 80, 'p': 20},\n",
    "    3: {'r': 17, 'd': 70, 'p':  8},\n",
    "    4: {'r': 27, 'd': 66, 'p':  7}\n",
    "}\n",
    "\n",
    "# Note: parameter d_1 can be obtained by params[1][\"d\"]"
   ]
  },
  {
   "cell_type": "markdown",
   "metadata": {},
   "source": [
    "## Output\n",
    "\n",
    "You are expected to find the vector $\\mathbf{s} = (s_0, \\dots, s_{n-1})$ denoting the times when each dish should be put into the oven.\n",
    "\n",
    "The optimal solution vector for the given instance is $\\mathbf{s} = (23, 4, 53, 38, 46)$.\n",
    "\n",
    "## Exercise\n",
    "\n",
    "Your task is to formulate the ILP model of the catering problem, solve it, and extract the vector $\\mathbf{s}$. The example solution follows:"
   ]
  },
  {
   "cell_type": "code",
   "execution_count": 2,
   "metadata": {},
   "outputs": [
    {
     "name": "stdout",
     "output_type": "stream",
     "text": [
      "Academic license - for non-commercial use only\n",
      "Optimize a model with 35 rows, 16 columns and 80 nonzeros\n",
      "Variable types: 6 continuous, 10 integer (10 binary)\n",
      "Coefficient statistics:\n",
      "  Matrix range     [1e+00, 1e+02]\n",
      "  Objective range  [1e+00, 1e+00]\n",
      "  Bounds range     [1e+00, 1e+00]\n",
      "  RHS range        [4e+00, 1e+02]\n",
      "Presolve removed 31 rows and 12 columns\n",
      "Presolve time: 0.00s\n",
      "Presolved: 4 rows, 4 columns, 10 nonzeros\n",
      "Variable types: 3 continuous, 1 integer (1 binary)\n",
      "\n",
      "Root relaxation: objective 7.300000e+01, 1 iterations, 0.00 seconds\n",
      "\n",
      "    Nodes    |    Current Node    |     Objective Bounds      |     Work\n",
      " Expl Unexpl |  Obj  Depth IntInf | Incumbent    BestBd   Gap | It/Node Time\n",
      "\n",
      "     0     0   73.00000    0    1          -   73.00000      -     -    0s\n",
      "H    0     0                      73.0000000   73.00000  0.00%     -    0s\n",
      "\n",
      "Explored 1 nodes (1 simplex iterations) in 0.01 seconds\n",
      "Thread count was 4 (of 4 available processors)\n",
      "\n",
      "Solution count 1: 73 \n",
      "\n",
      "Optimal solution found (tolerance 1.00e-04)\n",
      "Best objective 7.300000000000e+01, best bound 7.300000000000e+01, gap 0.0000%\n",
      "\n",
      "SOLUTION:\n",
      "s_0 = 23\n",
      "s_1 = 4\n",
      "s_2 = 53\n",
      "s_3 = 38\n",
      "s_4 = 46\n"
     ]
    }
   ],
   "source": [
    "import gurobipy as grb  # import Gurobi module\n",
    "\n",
    "# model -----------------------------------------------------\n",
    "model = grb.Model()\n",
    "\n",
    "# - ADD VARIABLES\n",
    "# variable s_i represents the time when the dish i is put into the oven\n",
    "s = model.addVars(n, vtype=grb.GRB.CONTINUOUS, lb=0, name=\"s\")\n",
    "x = {}\n",
    "# the binary variable x_ij represents the decision whether dish i is cooked before dish j or not\n",
    "for i in range(n):\n",
    "    for j in range(i):\n",
    "        x[i, j] = model.addVar(vtype=grb.GRB.BINARY, name=\"x\")\n",
    "\n",
    "# Cmax models the objective (the finish time of the last dish)\n",
    "Cmax = model.addVar(vtype=grb.GRB.CONTINUOUS, name=\"Cmax\")\n",
    "\n",
    "# - ADD CONSTRAINTS\n",
    "for i in range(n):\n",
    "    # link s_i with Cmax\n",
    "    model.addConstr(s[i] + params[i]['p'] <= Cmax)\n",
    "    # link s_i with r_i and d_i\n",
    "    model.addConstr(s[i] >= params[i]['r'])\n",
    "    model.addConstr(s[i] + params[i]['p'] <= params[i]['d'])\n",
    "\n",
    "# initialize the value of 'big M'\n",
    "M = sum([params[i]['p'] + params[i]['r'] for i in range(n)])\n",
    "\n",
    "for i in range(n):\n",
    "    for j in range(i):\n",
    "        # forbid the overlaps between two jobs, i.e., link variables x_ij with s_i and s_j by 'big M' trick        \n",
    "        model.addConstr(s[i] + params[i]['p'] <= s[j] + M*(1-x[i, j]))\n",
    "        model.addConstr(s[j] + params[j]['p'] <= s[i] + M*x[i, j])\n",
    "\n",
    "# - SET OBJECTIVE\n",
    "# minimize Cmax\n",
    "model.setObjective(Cmax, grb.GRB.MINIMIZE)\n",
    "\n",
    "# call the solver -------------------------------------------\n",
    "model.optimize()\n",
    "\n",
    "# print the solution ----------------------------------------\n",
    "print('\\nSOLUTION:')\n",
    "for i in range(n):\n",
    "    # do not forget to extract the solution properly by rounding and casting the result to int\n",
    "    # there might be cases, when the Gurobi solver has, e.g., 3.99999999 instead of 4 because of the numerics errors\n",
    "    print('s_{} = {}'.format(i, int(round(s[i].x))))  "
   ]
  },
  {
   "cell_type": "markdown",
   "metadata": {},
   "source": [
    "## Solution visualization"
   ]
  },
  {
   "cell_type": "code",
   "execution_count": 3,
   "metadata": {},
   "outputs": [
    {
     "data": {
      "image/png": "[encoded data removed]",
      "text/plain": [
       "<Figure size 720x144 with 1 Axes>"
      ]
     },
     "metadata": {
      "needs_background": "light"
     },
     "output_type": "display_data"
    }
   ],
   "source": [
    "import matplotlib.pyplot as plt \n",
    "\n",
    "def plot_solution(s, p):\n",
    "    \"\"\"\n",
    "    s: solution vector\n",
    "    p: processing times\n",
    "    \"\"\"\n",
    "    fig = plt.figure(figsize=(10,2))\n",
    "    ax = plt.gca()\n",
    "    ax.set_xlabel('time')     \n",
    "    ax.grid(True) \n",
    "    ax.set_yticks([2.5])\n",
    "    ax.set_yticklabels([\"oven\"]) \n",
    "    eps = 0.25  # just to show spaces between the dishes\n",
    "    ax.broken_barh([(s[i], p[i]-eps) for i in range(len(s))], (0, 5), \n",
    "                   facecolors=('tab:orange', 'tab:green', 'tab:red', 'tab:blue', 'tab:gray'))\n",
    "\n",
    "plot_solution([s[i].x for i in range(n)], [params[i][\"p\"] for i in range(n)])"
   ]
  },
  {
   "cell_type": "code",
   "execution_count": null,
   "metadata": {},
   "outputs": [],
   "source": []
  }
 ],
 "metadata": {
  "kernelspec": {
   "display_name": "Python 3",
   "language": "python",
   "name": "python3"
  },
  "language_info": {
   "codemirror_mode": {
    "name": "ipython",
    "version": 3
   },
   "file_extension": ".py",
   "mimetype": "text/x-python",
   "name": "python",
   "nbconvert_exporter": "python",
   "pygments_lexer": "ipython3",
   "version": "3.7.4"
  },
  "toc": {
   "base_numbering": 1,
   "nav_menu": {},
   "number_sections": true,
   "sideBar": true,
   "skip_h1_title": false,
   "title_cell": "Table of Contents",
   "title_sidebar": "Contents",
   "toc_cell": false,
   "toc_position": {},
   "toc_section_display": true,
   "toc_window_display": false
  },
  "varInspector": {
   "cols": {
    "lenName": 16,
    "lenType": 16,
    "lenVar": 40
   },
   "kernels_config": {
    "python": {
     "delete_cmd_postfix": "",
     "delete_cmd_prefix": "del ",
     "library": "var_list.py",
     "varRefreshCmd": "print(var_dic_list())"
    },
    "r": {
     "delete_cmd_postfix": ") ",
     "delete_cmd_prefix": "rm(",
     "library": "var_list.r",
     "varRefreshCmd": "cat(var_dic_list()) "
    }
   },
   "types_to_exclude": [
    "module",
    "function",
    "builtin_function_or_method",
    "instance",
    "_Feature"
   ],
   "window_display": false
  }
 },
 "nbformat": 4,
 "nbformat_minor": 4
}
