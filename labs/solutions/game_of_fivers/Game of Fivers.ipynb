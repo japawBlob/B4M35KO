{
 "cells": [
  {
   "cell_type": "markdown",
   "metadata": {},
   "source": [
    "# Game of Fivers\n",
    "\n",
    "_Combinatorial Optimization course, FEE CTU in Prague. Created by [Industrial Informatics Department](http://industrialinformatics.fel.cvut.cz)._\n",
    "\n",
    "## Motivation\n",
    "\n",
    "Riddle: On a square board of size $(n \\times n)$ there lie $n^2$ stones. Every stone has two sides - white and black. In the beginning, all stones have the white side facing upwards.\n",
    "\n",
    "You may turn the stone (white to black or black to white), but if you do that, all the stones in its 4-neighborhood will be turned as well. You want to reach the state in which all the stones have their black sides facing upwards. \n",
    "\n",
    "What is the minimal number of moves you need to do? \n",
    "\n",
    "## Input\n",
    "\n",
    "You are given a positive integer $n \\geq 3$, representing the size of the board.\n"
   ]
  },
  {
   "cell_type": "code",
   "execution_count": 1,
   "metadata": {
    "ExecuteTime": {
     "end_time": "2021-03-22T09:00:19.464790Z",
     "start_time": "2021-03-22T09:00:19.461512Z"
    }
   },
   "outputs": [],
   "source": [
    "n = 5"
   ]
  },
  {
   "cell_type": "markdown",
   "metadata": {},
   "source": [
    "## Output\n",
    "\n",
    "You should find a minimal number of moves that need to be done to reach the final states (all stones black). Also, you should provide the moves (e.g., a list of positions of the stones to be turned over).\n",
    "\n",
    "## Model\n",
    "\n",
    "If we want to model the problem, we need to use several properties of the problem:\n",
    "\n",
    "**1) Order of the moves is not important (show them several moves).**\n",
    "\n",
    "<img src=\"./image_1.png\" alt=\"Order is not important\" width=\"200px\"/>\n",
    "\n",
    "**2) Each stone is selected at most once.**\n",
    "    \n",
    "Imagine a sequence of moves:\n",
    "    \n",
    "$$\n",
    "\\dots (3,2) \\dots (3,2) \\dots (3,2) \\dots\n",
    "$$\n",
    "    \n",
    "Because the order is not important, we can write\n",
    "  \n",
    "$$\n",
    "\\dots (3,2), (3,2), (3,2) \\dots\n",
    "$$\n",
    "   \n",
    "It is easy to see, that even number of moves (with a same piece) will cancel the effect.\n",
    "\n",
    "**3) Color of the top side of the stone depends on the 4-neighbourhood (and the stone itself).**\n",
    "\n",
    "<img src=\"./image_2.png\" alt=\"Color depends on 4-neighborhood\" width=\"400\"/>\n",
    "\n",
    "\n",
    "### ILP model:\n",
    "\n",
    "We define variables $x_{i,j}$ with the following meaning\n",
    "    \n",
    "$$\n",
    "x_{i,j} = \\begin{cases}\n",
    "    1 \\ \\text{if stone } (i,j) \\ \\text{is selected}, \\\\\n",
    "    0 \\ \\text{otherwise}\n",
    "\\end{cases}\n",
    "$$\n",
    "    \n",
    "Objective is to minimize the number of moves, i.e.,\n",
    "    \n",
    "$$\n",
    "    \\min \\sum\\limits_{i=1}^{n} \\sum\\limits_{j=1}^{n} x_{i,j}\n",
    "$$\n",
    "    \n",
    "The only remaining question is: How to model an odd number?\n",
    "  \n",
    "The number $a$ is odd if we can write $a = 2\\cdot k + 1$, where $k \\in \\{0,1,\\dots\\}$. Therefore, we can model it by using auxiliary variables $k_{i,j}$. The constraints would look like this:\n",
    "    \n",
    "$$\n",
    "x_{i,j} + x_{i,j+1} + x_{i,j-1} + x_{i+1,j} + x_{i-1,j} = 1 + 2 k_{i,j}, \\ \\forall i,j \\in \\{1,\\dots, n\\}.\n",
    "$$\n",
    "    \n",
    "For the modelling purposes, we can assume, that $i,j \\in \\{0,1,\\dots,n+1\\}$, and force the variables on the border to 0.\\\\"
   ]
  },
  {
   "cell_type": "code",
   "execution_count": 2,
   "metadata": {
    "ExecuteTime": {
     "end_time": "2021-03-22T09:00:21.846777Z",
     "start_time": "2021-03-22T09:00:21.772665Z"
    }
   },
   "outputs": [
    {
     "name": "stdout",
     "output_type": "stream",
     "text": [
      "Using license file /home/benedond/Apps/gurobi/gurobi910/gurobi.lic\n",
      "Academic license - for non-commercial use only - expires 2021-04-16\n",
      "Gurobi Optimizer version 9.1.0 build v9.1.0rc0 (linux64)\n",
      "Thread count: 2 physical cores, 4 logical processors, using up to 4 threads\n",
      "Optimize a model with 26 rows, 74 columns and 174 nonzeros\n",
      "Model fingerprint: 0x256cb4c7\n",
      "Variable types: 0 continuous, 74 integer (49 binary)\n",
      "Coefficient statistics:\n",
      "  Matrix range     [1e+00, 2e+00]\n",
      "  Objective range  [1e+00, 1e+00]\n",
      "  Bounds range     [1e+00, 1e+00]\n",
      "  RHS range        [1e+00, 1e+00]\n",
      "Presolve removed 22 rows and 67 columns\n",
      "Presolve time: 0.01s\n",
      "Presolved: 4 rows, 7 columns, 16 nonzeros\n",
      "Variable types: 0 continuous, 7 integer (7 binary)\n",
      "Found heuristic solution: objective 15.0000000\n",
      "\n",
      "Explored 0 nodes (0 simplex iterations) in 0.02 seconds\n",
      "Thread count was 4 (of 4 available processors)\n",
      "\n",
      "Solution count 1: 15 \n",
      "\n",
      "Optimal solution found (tolerance 1.00e-04)\n",
      "Best objective 1.500000000000e+01, best bound 1.500000000000e+01, gap 0.0000%\n"
     ]
    }
   ],
   "source": [
    "import gurobipy as g\n",
    "\n",
    "m = g.Model()\n",
    "\n",
    "x = m.addVars(n+2, n+2, vtype=g.GRB.BINARY, obj=1)\n",
    "k = m.addVars(range(1,n+1), range(1,n+1), vtype=g.GRB.INTEGER)\n",
    "\n",
    "for i in range(1,n+1):\n",
    "    for j in range(1,n+1):\n",
    "        m.addConstr(x[i,j] + x[i+1, j] + x[i-1,j] + x[i,j+1] + x[i,j-1] == 2*k[i,j] + 1)\n",
    "        \n",
    "m.addConstr(x.sum(0,\"*\") + x.sum(n+1,\"*\") + x.sum(\"*\",0) + x.sum(\"*\",n+1) == 0)\n",
    "\n",
    "m.optimize()\n",
    "\n",
    "X = [[int(round(x[i,j].X)) for j in range(1,n+1)] for i in range(1,n+1)]\n"
   ]
  },
  {
   "cell_type": "markdown",
   "metadata": {},
   "source": [
    " ##  Visualization"
   ]
  },
  {
   "cell_type": "code",
   "execution_count": 4,
   "metadata": {
    "ExecuteTime": {
     "end_time": "2021-03-22T09:00:28.761729Z",
     "start_time": "2021-03-22T09:00:28.674973Z"
    }
   },
   "outputs": [
    {
     "data": {
      "image/png": "[encoded data removed]",
      "text/plain": [
       "<Figure size 432x288 with 1 Axes>"
      ]
     },
     "metadata": {
      "needs_background": "light"
     },
     "output_type": "display_data"
    }
   ],
   "source": [
    "import matplotlib.pyplot as plt\n",
    "import numpy as np\n",
    "\n",
    "def visualize(board, n):\n",
    "    board = np.array(board)\n",
    "    clicks = np.argwhere(board == 1)\n",
    "    plt.imshow(board, interpolation='none')\n",
    "    plt.scatter(clicks[:, 1], clicks[:, 0], c='red')\n",
    "    plt.gca().set_xticks(np.arange(-0.5, n, 1))\n",
    "    plt.gca().set_xticklabels([])\n",
    "    plt.gca().set_yticks(np.arange(-0.5, n, 1))\n",
    "    plt.gca().set_yticklabels([])\n",
    "    plt.grid()\n",
    "    plt.show()\n",
    "    \n",
    "visualize(X, n)"
   ]
  },
  {
   "cell_type": "markdown",
   "metadata": {},
   "source": [
    "## Additional exercise\n",
    "\n",
    "- Try to experiment with the model for different values of parameter $n$.\n",
    "- See, how far is the model scalable (i.e., is it able to solve the problem for n ~ 10, n ~ 100, or even more in a reasonable time?)."
   ]
  }
 ],
 "metadata": {
  "kernelspec": {
   "display_name": "Python 3",
   "language": "python",
   "name": "python3"
  },
  "language_info": {
   "codemirror_mode": {
    "name": "ipython",
    "version": 3
   },
   "file_extension": ".py",
   "mimetype": "text/x-python",
   "name": "python",
   "nbconvert_exporter": "python",
   "pygments_lexer": "ipython3",
   "version": "3.7.4"
  },
  "toc": {
   "base_numbering": 1,
   "nav_menu": {},
   "number_sections": true,
   "sideBar": true,
   "skip_h1_title": false,
   "title_cell": "Table of Contents",
   "title_sidebar": "Contents",
   "toc_cell": false,
   "toc_position": {},
   "toc_section_display": true,
   "toc_window_display": false
  },
  "varInspector": {
   "cols": {
    "lenName": 16,
    "lenType": 16,
    "lenVar": 40
   },
   "kernels_config": {
    "python": {
     "delete_cmd_postfix": "",
     "delete_cmd_prefix": "del ",
     "library": "var_list.py",
     "varRefreshCmd": "print(var_dic_list())"
    },
    "r": {
     "delete_cmd_postfix": ") ",
     "delete_cmd_prefix": "rm(",
     "library": "var_list.r",
     "varRefreshCmd": "cat(var_dic_list()) "
    }
   },
   "types_to_exclude": [
    "module",
    "function",
    "builtin_function_or_method",
    "instance",
    "_Feature"
   ],
   "window_display": false
  }
 },
 "nbformat": 4,
 "nbformat_minor": 2
}
