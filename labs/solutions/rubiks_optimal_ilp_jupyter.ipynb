{
 "cells": [
  {
   "cell_type": "markdown",
   "metadata": {},
   "source": [
    "# Optimal solution of Rubik's cube with Mixed-Integer Linear Programming\n",
    "\n",
    "_Combinatorial Optimization course, FEE CTU in Prague. Created by [Industrial Informatics Department](http://industrialinformatics.fel.cvut.cz)._\n",
    "\n",
    "In this assigment, we will demonstrate the use of ILP formalism to find the shortest sequence of moves that will solve Rubik's cube from any feasible initial configuration. The inspiration for the model is taken from http://www.m-hikari.com/imf-password2009/45-48-2009/aksopIMF45-48-2009-2.pdf where some mistakes were corrected and the model was a bit improved.\n",
    "\n",
    "For visualisation and performing moves to the cube, we use nifty package `pycuber` which can be installed simply by\n",
    "\n",
    "```pip install pycuber```"
   ]
  },
  {
   "cell_type": "code",
   "execution_count": 1016,
   "metadata": {},
   "outputs": [],
   "source": [
    "import pycuber as pc\n",
    "import gurobipy as g\n",
    "import numpy as np\n",
    "import itertools as it"
   ]
  },
  {
   "cell_type": "markdown",
   "metadata": {},
   "source": [
    "This is how a solved cube looks like."
   ]
  },
  {
   "cell_type": "code",
   "execution_count": 1017,
   "metadata": {},
   "outputs": [
    {
     "data": {
      "text/plain": [
       "      \u001b[43m  \u001b[49m\u001b[43m  \u001b[49m\u001b[43m  \u001b[49m\n",
       "      \u001b[43m  \u001b[49m\u001b[43m  \u001b[49m\u001b[43m  \u001b[49m\n",
       "      \u001b[43m  \u001b[49m\u001b[43m  \u001b[49m\u001b[43m  \u001b[49m\n",
       "\u001b[45m  \u001b[49m\u001b[45m  \u001b[49m\u001b[45m  \u001b[49m\u001b[42m  \u001b[49m\u001b[42m  \u001b[49m\u001b[42m  \u001b[49m\u001b[41m  \u001b[49m\u001b[41m  \u001b[49m\u001b[41m  \u001b[49m\u001b[46m  \u001b[49m\u001b[46m  \u001b[49m\u001b[46m  \u001b[49m\n",
       "\u001b[45m  \u001b[49m\u001b[45m  \u001b[49m\u001b[45m  \u001b[49m\u001b[42m  \u001b[49m\u001b[42m  \u001b[49m\u001b[42m  \u001b[49m\u001b[41m  \u001b[49m\u001b[41m  \u001b[49m\u001b[41m  \u001b[49m\u001b[46m  \u001b[49m\u001b[46m  \u001b[49m\u001b[46m  \u001b[49m\n",
       "\u001b[45m  \u001b[49m\u001b[45m  \u001b[49m\u001b[45m  \u001b[49m\u001b[42m  \u001b[49m\u001b[42m  \u001b[49m\u001b[42m  \u001b[49m\u001b[41m  \u001b[49m\u001b[41m  \u001b[49m\u001b[41m  \u001b[49m\u001b[46m  \u001b[49m\u001b[46m  \u001b[49m\u001b[46m  \u001b[49m\n",
       "      \u001b[47m  \u001b[49m\u001b[47m  \u001b[49m\u001b[47m  \u001b[49m\n",
       "      \u001b[47m  \u001b[49m\u001b[47m  \u001b[49m\u001b[47m  \u001b[49m\n",
       "      \u001b[47m  \u001b[49m\u001b[47m  \u001b[49m\u001b[47m  \u001b[49m"
      ]
     },
     "execution_count": 1017,
     "metadata": {},
     "output_type": "execute_result"
    }
   ],
   "source": [
    "c = pc.Cube()\n",
    "c"
   ]
  },
  {
   "cell_type": "markdown",
   "metadata": {},
   "source": [
    "Now, in each turn we can apply 18 different moves. We will randomly scramble our cube by some of the moves:"
   ]
  },
  {
   "cell_type": "code",
   "execution_count": 1018,
   "metadata": {},
   "outputs": [
    {
     "name": "stdout",
     "output_type": "stream",
     "text": [
      "B' L F R F'\n"
     ]
    },
    {
     "data": {
      "text/plain": [
       "      \u001b[46m  \u001b[49m\u001b[45m  \u001b[49m\u001b[45m  \u001b[49m\n",
       "      \u001b[46m  \u001b[49m\u001b[43m  \u001b[49m\u001b[42m  \u001b[49m\n",
       "      \u001b[43m  \u001b[49m\u001b[41m  \u001b[49m\u001b[43m  \u001b[49m\n",
       "\u001b[47m  \u001b[49m\u001b[47m  \u001b[49m\u001b[42m  \u001b[49m\u001b[41m  \u001b[49m\u001b[47m  \u001b[49m\u001b[41m  \u001b[49m\u001b[46m  \u001b[49m\u001b[43m  \u001b[49m\u001b[46m  \u001b[49m\u001b[47m  \u001b[49m\u001b[46m  \u001b[49m\u001b[41m  \u001b[49m\n",
       "\u001b[45m  \u001b[49m\u001b[45m  \u001b[49m\u001b[45m  \u001b[49m\u001b[43m  \u001b[49m\u001b[42m  \u001b[49m\u001b[42m  \u001b[49m\u001b[41m  \u001b[49m\u001b[41m  \u001b[49m\u001b[41m  \u001b[49m\u001b[43m  \u001b[49m\u001b[46m  \u001b[49m\u001b[47m  \u001b[49m\n",
       "\u001b[45m  \u001b[49m\u001b[45m  \u001b[49m\u001b[45m  \u001b[49m\u001b[43m  \u001b[49m\u001b[42m  \u001b[49m\u001b[42m  \u001b[49m\u001b[41m  \u001b[49m\u001b[43m  \u001b[49m\u001b[43m  \u001b[49m\u001b[45m  \u001b[49m\u001b[46m  \u001b[49m\u001b[47m  \u001b[49m\n",
       "      \u001b[42m  \u001b[49m\u001b[47m  \u001b[49m\u001b[47m  \u001b[49m\n",
       "      \u001b[42m  \u001b[49m\u001b[47m  \u001b[49m\u001b[46m  \u001b[49m\n",
       "      \u001b[42m  \u001b[49m\u001b[41m  \u001b[49m\u001b[46m  \u001b[49m"
      ]
     },
     "execution_count": 1018,
     "metadata": {},
     "output_type": "execute_result"
    }
   ],
   "source": [
    "moves_mapping = [\"B'\", \"B\", \"S\", \"S'\", \"F\", \"F'\", \"U'\", \"U\", \"E\", \"E'\", \"D\", \"D'\", \"L'\", \"L\", \"M'\", \"M\", \"R\", \"R'\"]\n",
    "\n",
    "c = pc.Cube()\n",
    "\n",
    "# random scramle\n",
    "alg = ' '.join(np.random.choice(moves_mapping, 5, replace=True))\n",
    "fc = c.copy()\n",
    "fc(alg)\n",
    "print(alg)\n",
    "c(alg)"
   ]
  },
  {
   "cell_type": "markdown",
   "metadata": {},
   "source": [
    "Now, we will prepare some data for our ILP model. We need to somehow index the individidual subcubes to represent the initial state of the cube."
   ]
  },
  {
   "cell_type": "code",
   "execution_count": 1019,
   "metadata": {},
   "outputs": [],
   "source": [
    "cubes_idxs = np.zeros(shape=(6, 3, 3), dtype=int)\n",
    "\n",
    "counter = 1\n",
    "for i in range(3):\n",
    "    for j in range(3):\n",
    "        cubes_idxs[0, i, j] = counter\n",
    "        cubes_idxs[5, i, j] = counter + 45\n",
    "        counter += 1\n",
    "for j in range(3):\n",
    "    for k in range(4):\n",
    "        cubes_idxs[1+k, 0, j] = 10 + j + k*3\n",
    "        cubes_idxs[1+k, 1, j] = 10 + j + k*3 + 12\n",
    "        cubes_idxs[1+k, 2, j] = 10 + j + k*3 + 24\n",
    "        \n",
    "faces = []\n",
    "for f in range(6):\n",
    "    faces.append([])\n",
    "    for i in range(3):\n",
    "        for j in range(3):\n",
    "            faces[f] += [cubes_idxs[f, i, j]]\n",
    "                        \n",
    "faces_letters = 'U L F R B D'.split()\n",
    "colors = ['red', 'yellow', 'green', 'white', 'orange', 'blue']\n",
    "init_pattern = []\n",
    "for face_idx, face in enumerate(faces_letters):\n",
    "    a = c.get_face(face)\n",
    "    for i in range(3):\n",
    "        for j in range(3):\n",
    "            init_pattern += [(cubes_idxs[face_idx, i, j], colors.index(a[i][j].colour) + 1)]"
   ]
  },
  {
   "cell_type": "markdown",
   "metadata": {},
   "source": [
    "## ILP model\n",
    "\n",
    "Finally, we build and solve the model."
   ]
  },
  {
   "cell_type": "code",
   "execution_count": 1026,
   "metadata": {},
   "outputs": [
    {
     "name": "stdout",
     "output_type": "stream",
     "text": [
      "[[1, 2, 3, 4, 5, 6, 7, 8, 9], [10, 11, 12, 22, 23, 24, 34, 35, 36], [13, 14, 15, 25, 26, 27, 37, 38, 39], [16, 17, 18, 28, 29, 30, 40, 41, 42], [19, 20, 21, 31, 32, 33, 43, 44, 45], [46, 47, 48, 49, 50, 51, 52, 53, 54]]\n",
      "Changed value of parameter mipfocus to 1\n",
      "   Prev: 0  Min: 0  Max: 3  Default: 0\n",
      "Gurobi Optimizer version 9.0.0 build v9.0.0rc2 (mac64)\n",
      "Optimize a model with 2264 rows, 505 columns and 15703 nonzeros\n",
      "Model fingerprint: 0x8c139283\n",
      "Model has 1872 general constraints\n",
      "Variable types: 1 continuous, 504 integer (126 binary)\n",
      "Coefficient statistics:\n",
      "  Matrix range     [1e+00, 7e+00]\n",
      "  Objective range  [1e+00, 1e+00]\n",
      "  Bounds range     [1e+00, 7e+00]\n",
      "  RHS range        [1e+00, 6e+00]\n",
      "Presolve added 2083 rows and 0 columns\n",
      "Presolve removed 0 rows and 72 columns\n",
      "Presolve time: 0.10s\n",
      "Presolved: 4347 rows, 433 columns, 15294 nonzeros\n",
      "Variable types: 0 continuous, 433 integer (108 binary)\n",
      "\n",
      "Root relaxation: objective 6.617673e-01, 2585 iterations, 0.07 seconds\n",
      "\n",
      "    Nodes    |    Current Node    |     Objective Bounds      |     Work\n",
      " Expl Unexpl |  Obj  Depth IntInf | Incumbent    BestBd   Gap | It/Node Time\n",
      "\n",
      "     0     0    0.66177    0  310          -    0.66177      -     -    0s\n",
      "     0     0    1.00000    0  261          -    1.00000      -     -    0s\n",
      "     0     0    1.00000    0  257          -    1.00000      -     -    0s\n",
      "     0     0    2.00000    0  323          -    2.00000      -     -    0s\n",
      "     0     0    2.00000    0  314          -    2.00000      -     -    0s\n",
      "     0     0    2.00000    0  339          -    2.00000      -     -    0s\n",
      "     0     0    2.00000    0  317          -    2.00000      -     -    0s\n",
      "     0     0    2.00000    0  321          -    2.00000      -     -    0s\n",
      "     0     0    2.00000    0  342          -    2.00000      -     -    0s\n",
      "     0     0    2.00000    0  321          -    2.00000      -     -    1s\n",
      "     0     1    2.00000    0  321          -    2.00000      -     -    4s\n",
      "   767   539    4.00000   26  187          -    2.00000      -  97.9    5s\n",
      "  1281   829    4.00000   20  319          -    2.07253      -  99.3   10s\n",
      "  2312  1079 infeasible   33               -    3.00000      -  73.6   15s\n",
      "  4172  1379 infeasible   29               -    3.00000      -   104   20s\n",
      "  5809  2036 infeasible   57               -    3.00000      -   113   25s\n",
      "  7191  2610 infeasible   40               -    3.00000      -   120   30s\n",
      "* 7228  2173              48       6.0000000    3.00000  50.0%   121   30s\n",
      "H 7590  1579                       5.0000000    3.00000  40.0%   122   31s\n",
      "\n",
      "Cutting planes:\n",
      "  Cover: 1\n",
      "  Implied bound: 2\n",
      "  MIR: 62\n",
      "  StrongCG: 2\n",
      "  Flow cover: 75\n",
      "  Zero half: 3\n",
      "  RLT: 1\n",
      "  Relax-and-lift: 2\n",
      "\n",
      "Explored 9466 nodes (1131289 simplex iterations) in 34.38 seconds\n",
      "Thread count was 12 (of 12 available processors)\n",
      "\n",
      "Solution count 2: 5 6 \n",
      "\n",
      "Optimal solution found (tolerance 1.00e-04)\n",
      "Best objective 5.000000000000e+00, best bound 5.000000000000e+00, gap 0.0000%\n"
     ]
    }
   ],
   "source": [
    "G = [\n",
    "    (1,1,18), (1,2,30), (1,3,42), (1,10,3), (1,22,2),\n",
    "    (1,34,1), (1,18,54), (1,30,53), (1,42,52), (1,52,10), (1,53,22),\n",
    "    (1,54,34), (1,19,43), (1,20,31), (1,21,19), (1,31,44), (1,33,20),\n",
    "    (1,43,45), (1,44,33), (1,45,21), (3,4,17), (3,5,29), (3,6,41), (3,11,6), (3,23,5), (3,35,4), (3,17,51), (3,29,50), (3,41,49),\n",
    "    (3,49,11), (3,50,23), (3,51,35), (5,7,16), (5,8,28), (5,9,40),\n",
    "    (5,12,9), (5,24,8), (5,36,7), (5,16,48), (5,28,47), (5,40,46),\n",
    "    (5,46,12), (5,47,24), (5,48,36), (5,13,15), (5,14,27), (5,15,39),\n",
    "    (5,25,14), (5,27,38), (5,37,13), (5,38,25), (5,39,37), (7,10,13),\n",
    "    (7,11,14), (7,12,15), (7,13,16), (7,14,17), (7,15,18), (7,16,19),\n",
    "    (7,17,20), (7,18,21), (7,19,10), (7,20,11), (7,21,12), (7,3,1),\n",
    "    (7,6,2), (7,9,3), (7,2,4), (7,8,6), (7,1,7), (7,4,8), (7,7,9),\n",
    "    (9,22,25), (9,23,26), (9,24,27), (9,25,28), (9,26,29), (9,27,30),\n",
    "    (9,28,31), (9,29,32), (9,30,33), (9,31,22), (9,32,23), (9,33,24),\n",
    "    (11,34,37), (11,35,38), (11,36,39), (11,37,40), (11,38,41),\n",
    "    (11,39,42), (11,40,43), (11,41,44), (11,42,45), (11,43,34),\n",
    "    (11,44,35), (11,45,36), (11,46,48), (11,47,51), (11,48,54),\n",
    "    (11,49,47), (11,51,53), (11,52,46), (11,53,49), (11,54,52),\n",
    "    (13,1,45), (13,4,33), (13,7,21), (13,13,1), (13,25,4), (13,37,7),\n",
    "    (13,21,52), (13,33,49), (13,45,46), (13,46,13), (13,49,25),\n",
    "    (13,52,37), (13,10,34), (13,11,22), (13,12,10), (13,22,35),\n",
    "    (13,24,11), (13,34,36), (13,35,24), (13,36,12), (15,2,44), (15,5,32),\n",
    "    (15,8,20), (15,14,2), (15,26,5), (15,38,8), (15,20,53), (15,32,50),\n",
    "    (15,44,47), (15,47,14), (15,50,26), (15,53,38), (17,3,43), (17,6,31),\n",
    "    (17,9,19), (17,15,3), (17,27,6), (17,39,9), (17,19,54), (17,31,51),\n",
    "    (17,43,48), (17,48,15), (17,51,27), (17,54,39), (17,16,18),\n",
    "    (17,17,30), (17,18,42), (17,28,17), (17,30,41), (17,40,16),\n",
    "    (17,41,28), (17,42,40)\n",
    "]\n",
    "            \n",
    "# in theory, with at most 26 moves you can solve the cube from any initial configuration: http://cube20.org/qtm/\n",
    "max_moves = 6 \n",
    "\n",
    "\n",
    "max_moves += 1\n",
    "m = g.Model()\n",
    "y = m.addVars(18, max_moves, vtype=g.GRB.BINARY, name='y')\n",
    "x = m.addVars(54, max_moves, vtype=g.GRB.INTEGER, lb=1, ub=6, name='x')\n",
    "moves_used = m.addVar(vtype=g.GRB.CONTINUOUS, ub=max_moves, obj=1)\n",
    "\n",
    "# objective: minimize the number of used moves\n",
    "m.addConstrs(moves_used >= g.quicksum((t+1)*y[i, t] for i in range(18)) for t in range(max_moves))\n",
    "    \n",
    "for t in range(max_moves-1):\n",
    "    for k, i, j in G:\n",
    "        # if we perform move k at time t, then colors of the affected cubes must change accordingly\n",
    "        # beware! this is not an ILP constraint. but can be translated to a one with a big-M\n",
    "        m.addConstr((y[k-1, t] == 1) >> (x[i-1, t] == x[j-1, t+1]))   \n",
    "        \n",
    "        # inverse to the k move\n",
    "        m.addConstr((y[k+1-1, t] == 1) >> (x[j-1, t] == x[i-1, t+1]))\n",
    "        \n",
    "        # non-affected cubes must remain the same\n",
    "        m.addConstr(x[i-1, t] - 6*(y[k-1, t] + y[k+1-1, t] + \n",
    "                                   g.quicksum(y[l-1, t] + y[l+1-1, t] for l, m, n in G if m==i and k!=l)) <= x[i-1, t+1]\n",
    "                   )\n",
    "        m.addConstr(x[i-1, t+1] <= x[i-1, t] + 6*(y[k-1, t] + y[k+1-1, t] + \n",
    "                                   g.quicksum(y[l-1, t] + y[l+1-1, t] for l, m, n in G if m==i and k!=l))\n",
    "                   )\n",
    "   \n",
    "# final state conditions - all cubes in every face must have the same colors\n",
    "for f in range(6):\n",
    "    for i in faces[f]:\n",
    "        for j in faces[f]:\n",
    "            if i > j:\n",
    "                m.addConstr(x[i-1, max_moves-1] == x[j-1, max_moves-1])\n",
    "                \n",
    "                \n",
    "# set initial cube configuration\n",
    "for cidx, color in init_pattern:\n",
    "    m.addConstr(x[cidx-1, 0] == color)\n",
    "    \n",
    "# one move at the time    \n",
    "m.addConstrs(g.quicksum(y[i, t] for i in range(18)) <= 1 for t in range(max_moves))\n",
    "\n",
    "# redundant constaints:\n",
    "for t in range(max_moves-1):\n",
    "    # forbid mirror moves (gives solver extra information) + \n",
    "    # symmetry breaking: do not use sequence of two moves of the second kind (i.e., prime moves)\n",
    "    # if it has to do it, it will achieve the same effect with two moves of the first kind\n",
    "    m.addConstrs(y[2*k+1, t] + y[2*k, t+1] <= 1 for k in range(9))\n",
    "    m.addConstrs(y[2*k, t] + y[2*k+1, t+1] + y[2*k+1, t] <= 1 for k in range(9))\n",
    "    \n",
    "# solve the problem\n",
    "m.params.mipfocus = 1  # focus on feasiblity\n",
    "m.optimize()"
   ]
  },
  {
   "cell_type": "markdown",
   "metadata": {},
   "source": [
    "Let us extract the solution:"
   ]
  },
  {
   "cell_type": "code",
   "execution_count": 1027,
   "metadata": {},
   "outputs": [
    {
     "name": "stdout",
     "output_type": "stream",
     "text": [
      "F R' F' L' B\n"
     ]
    }
   ],
   "source": [
    "solution = []\n",
    "for t in range(max_moves):\n",
    "    for i in range(18):\n",
    "        if y[i, t].x > 0.5:\n",
    "            solution += [moves_mapping[i]]\n",
    "solution_alg = ' '.join(solution)\n",
    "print(solution_alg)"
   ]
  },
  {
   "cell_type": "markdown",
   "metadata": {},
   "source": [
    "Ok, so this was our original cube:"
   ]
  },
  {
   "cell_type": "code",
   "execution_count": 1022,
   "metadata": {},
   "outputs": [
    {
     "data": {
      "text/plain": [
       "      \u001b[46m  \u001b[49m\u001b[45m  \u001b[49m\u001b[45m  \u001b[49m\n",
       "      \u001b[46m  \u001b[49m\u001b[43m  \u001b[49m\u001b[42m  \u001b[49m\n",
       "      \u001b[43m  \u001b[49m\u001b[41m  \u001b[49m\u001b[43m  \u001b[49m\n",
       "\u001b[47m  \u001b[49m\u001b[47m  \u001b[49m\u001b[42m  \u001b[49m\u001b[41m  \u001b[49m\u001b[47m  \u001b[49m\u001b[41m  \u001b[49m\u001b[46m  \u001b[49m\u001b[43m  \u001b[49m\u001b[46m  \u001b[49m\u001b[47m  \u001b[49m\u001b[46m  \u001b[49m\u001b[41m  \u001b[49m\n",
       "\u001b[45m  \u001b[49m\u001b[45m  \u001b[49m\u001b[45m  \u001b[49m\u001b[43m  \u001b[49m\u001b[42m  \u001b[49m\u001b[42m  \u001b[49m\u001b[41m  \u001b[49m\u001b[41m  \u001b[49m\u001b[41m  \u001b[49m\u001b[43m  \u001b[49m\u001b[46m  \u001b[49m\u001b[47m  \u001b[49m\n",
       "\u001b[45m  \u001b[49m\u001b[45m  \u001b[49m\u001b[45m  \u001b[49m\u001b[43m  \u001b[49m\u001b[42m  \u001b[49m\u001b[42m  \u001b[49m\u001b[41m  \u001b[49m\u001b[43m  \u001b[49m\u001b[43m  \u001b[49m\u001b[45m  \u001b[49m\u001b[46m  \u001b[49m\u001b[47m  \u001b[49m\n",
       "      \u001b[42m  \u001b[49m\u001b[47m  \u001b[49m\u001b[47m  \u001b[49m\n",
       "      \u001b[42m  \u001b[49m\u001b[47m  \u001b[49m\u001b[46m  \u001b[49m\n",
       "      \u001b[42m  \u001b[49m\u001b[41m  \u001b[49m\u001b[46m  \u001b[49m"
      ]
     },
     "execution_count": 1022,
     "metadata": {},
     "output_type": "execute_result"
    }
   ],
   "source": [
    "c"
   ]
  },
  {
   "cell_type": "markdown",
   "metadata": {},
   "source": [
    "And now, we apply the obtain solution algorithm:"
   ]
  },
  {
   "cell_type": "code",
   "execution_count": 1023,
   "metadata": {},
   "outputs": [
    {
     "data": {
      "text/plain": [
       "      \u001b[43m  \u001b[49m\u001b[43m  \u001b[49m\u001b[43m  \u001b[49m\n",
       "      \u001b[43m  \u001b[49m\u001b[43m  \u001b[49m\u001b[43m  \u001b[49m\n",
       "      \u001b[43m  \u001b[49m\u001b[43m  \u001b[49m\u001b[43m  \u001b[49m\n",
       "\u001b[45m  \u001b[49m\u001b[45m  \u001b[49m\u001b[45m  \u001b[49m\u001b[42m  \u001b[49m\u001b[42m  \u001b[49m\u001b[42m  \u001b[49m\u001b[41m  \u001b[49m\u001b[41m  \u001b[49m\u001b[41m  \u001b[49m\u001b[46m  \u001b[49m\u001b[46m  \u001b[49m\u001b[46m  \u001b[49m\n",
       "\u001b[45m  \u001b[49m\u001b[45m  \u001b[49m\u001b[45m  \u001b[49m\u001b[42m  \u001b[49m\u001b[42m  \u001b[49m\u001b[42m  \u001b[49m\u001b[41m  \u001b[49m\u001b[41m  \u001b[49m\u001b[41m  \u001b[49m\u001b[46m  \u001b[49m\u001b[46m  \u001b[49m\u001b[46m  \u001b[49m\n",
       "\u001b[45m  \u001b[49m\u001b[45m  \u001b[49m\u001b[45m  \u001b[49m\u001b[42m  \u001b[49m\u001b[42m  \u001b[49m\u001b[42m  \u001b[49m\u001b[41m  \u001b[49m\u001b[41m  \u001b[49m\u001b[41m  \u001b[49m\u001b[46m  \u001b[49m\u001b[46m  \u001b[49m\u001b[46m  \u001b[49m\n",
       "      \u001b[47m  \u001b[49m\u001b[47m  \u001b[49m\u001b[47m  \u001b[49m\n",
       "      \u001b[47m  \u001b[49m\u001b[47m  \u001b[49m\u001b[47m  \u001b[49m\n",
       "      \u001b[47m  \u001b[49m\u001b[47m  \u001b[49m\u001b[47m  \u001b[49m"
      ]
     },
     "execution_count": 1023,
     "metadata": {},
     "output_type": "execute_result"
    }
   ],
   "source": [
    "c(solution)"
   ]
  },
  {
   "cell_type": "markdown",
   "metadata": {},
   "source": [
    "Indeed, the cube is solved! For sake of comparison, let us solve the cube with so-called _Corners-first method_ that humans typically use to solve the cube:"
   ]
  },
  {
   "cell_type": "code",
   "execution_count": 1024,
   "metadata": {},
   "outputs": [
    {
     "name": "stdout",
     "output_type": "stream",
     "text": [
      "Cross: U2 B' R B' D2 R D2\n",
      "F2L('green', 'orange'): y R U' R' y' U F' U2 F\n",
      "F2L('orange', 'blue'): y U R U2 R' U R U' R'\n",
      "F2L('blue', 'red'): y R U' R' U F' U' F\n",
      "F2L('red', 'green'): y U R U R' U' F' U' F\n",
      "OLL:  U2 R U R' U R U' R' U' R' F R F'\n",
      "PLL:  y U x' R U' R' D R U R' D' R U R' D R U' R' D'\n",
      "\n",
      "FULL: U2 B' R B' D2 R D2 B U' B' U F' U2 F U B U2 B' U B U' B' L U' L' U B' U' B U F U F' U' L' U' L U2 F U F' U F U' F' U' F' L F L' U R B' R' F R B R' F' R B R' F R B' R' F'\n"
     ]
    }
   ],
   "source": [
    "from pycuber.solver import CFOPSolver\n",
    "\n",
    "solver = pc.solver.CFOPSolver(fc)\n",
    "solution = solver.solve(suppress_progress_messages=False)"
   ]
  },
  {
   "cell_type": "code",
   "execution_count": 1025,
   "metadata": {},
   "outputs": [
    {
     "data": {
      "text/plain": [
       "73"
      ]
     },
     "execution_count": 1025,
     "metadata": {},
     "output_type": "execute_result"
    }
   ],
   "source": [
    "length_legacy_alg = sum([1 if not '2' in str(a) else 2 for a in solution])\n",
    "length_legacy_alg"
   ]
  },
  {
   "cell_type": "markdown",
   "metadata": {},
   "source": [
    "Hence, the suboptimal solution is much longer (but it is much faster to find it)."
   ]
  },
  {
   "cell_type": "code",
   "execution_count": null,
   "metadata": {},
   "outputs": [],
   "source": []
  }
 ],
 "metadata": {
  "kernelspec": {
   "display_name": "Python 3",
   "language": "python",
   "name": "python3"
  },
  "language_info": {
   "codemirror_mode": {
    "name": "ipython",
    "version": 3
   },
   "file_extension": ".py",
   "mimetype": "text/x-python",
   "name": "python",
   "nbconvert_exporter": "python",
   "pygments_lexer": "ipython3",
   "version": "3.7.6"
  },
  "toc": {
   "base_numbering": 1,
   "nav_menu": {},
   "number_sections": true,
   "sideBar": true,
   "skip_h1_title": false,
   "title_cell": "Table of Contents",
   "title_sidebar": "Contents",
   "toc_cell": false,
   "toc_position": {
    "height": "calc(100% - 180px)",
    "left": "10px",
    "top": "150px",
    "width": "373px"
   },
   "toc_section_display": true,
   "toc_window_display": false
  },
  "varInspector": {
   "cols": {
    "lenName": 16,
    "lenType": 16,
    "lenVar": 40
   },
   "kernels_config": {
    "python": {
     "delete_cmd_postfix": "",
     "delete_cmd_prefix": "del ",
     "library": "var_list.py",
     "varRefreshCmd": "print(var_dic_list())"
    },
    "r": {
     "delete_cmd_postfix": ") ",
     "delete_cmd_prefix": "rm(",
     "library": "var_list.r",
     "varRefreshCmd": "cat(var_dic_list()) "
    }
   },
   "types_to_exclude": [
    "module",
    "function",
    "builtin_function_or_method",
    "instance",
    "_Feature"
   ],
   "window_display": false
  }
 },
 "nbformat": 4,
 "nbformat_minor": 4
}
