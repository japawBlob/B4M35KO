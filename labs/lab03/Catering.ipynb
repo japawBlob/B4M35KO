{
 "cells": [
  {
   "cell_type": "markdown",
   "metadata": {},
   "source": [
    "# The Catering Problem\n",
    "\n",
    "## Motivation\n",
    "\n",
    "A catering company to cook $n$ dishes, but has only one available oven.\n",
    "    At most a single dish can be inside the oven at one time.    \n",
    "    Each dish $i$ has its earliest time when it can be put into the oven $r_i$ (since it needs to be prepared before it is put into the oven), the latest time it should be taken from the oven $d_i$ (since the customers do not want to wait too long), and the time it needs to stay in the oven $p_i$.\n",
    "    The goal is to find the vector of times $\\mathbf{s} = (s_0, \\dots, s_{n-1})$ (denoting the times when each dish is put into the oven) such that the finish time of the last dish is minimal.\n",
    "    \n",
    "## Input\n",
    "\n",
    "You are given the following:\n",
    "* number of dished $n$\n",
    "* parameters $r_i$, $d_i$ and $p_i$ for each dish $i$\n",
    "\n",
    "For the testing purposes, you can experiment with the following instance:"
   ]
  },
  {
   "cell_type": "code",
   "execution_count": 10,
   "metadata": {},
   "outputs": [],
   "source": [
    "n = 5\n",
    "params = {\n",
    "    0: {'r': 20, 'd': 45, 'p': 15},\n",
    "    1: {'r':  4, 'd': 30, 'p': 19},\n",
    "    2: {'r':  5, 'd': 80, 'p': 20},\n",
    "    3: {'r': 17, 'd': 70, 'p':  8},\n",
    "    4: {'r': 27, 'd': 66, 'p':  7}\n",
    "}\n",
    "\n",
    "# Note: parameter d_1 can be obtained by params[1][\"d\"]"
   ]
  },
  {
   "cell_type": "markdown",
   "metadata": {},
   "source": [
    "## Output\n",
    "\n",
    "You are expected to find the vector $\\mathbf{s} = (s_0, \\dots, s_{n-1})$ denoting the times when each dish should be put into the oven.\n",
    "\n",
    "The optimal solution vector for the given instance is $\\mathbf{s} = (23, 4, 53, 38, 46)$.\n",
    "\n",
    "## Exercise\n",
    "\n",
    "Your task is to formulate the ILP model of the catering problem, solve it, and extract the vector $\\mathbf{s}$. The example solution follows:"
   ]
  },
  {
   "cell_type": "markdown",
   "metadata": {},
   "source": [
    "Hint: to ensure that any two dishes $i$ and $j$ are not overlapping in the oven, you need to ensure that one of the following constraints holds: $s_i + p_i \\leq s_j$ or $s_j + p_j \\leq s_i$. This might be perhaps done using big-M... "
   ]
  },
  {
   "cell_type": "code",
   "execution_count": 11,
   "metadata": {},
   "outputs": [
    {
     "name": "stdout",
     "output_type": "stream",
     "text": [
      "Gurobi Optimizer version 9.5.1 build v9.5.1rc2 (win64)\n",
      "Thread count: 4 physical cores, 8 logical processors, using up to 8 threads\n",
      "Optimize a model with 35 rows, 16 columns and 80 nonzeros\n",
      "Model fingerprint: 0x95bfa3ca\n",
      "Variable types: 6 continuous, 10 integer (10 binary)\n",
      "Coefficient statistics:\n",
      "  Matrix range     [1e+00, 1e+03]\n",
      "  Objective range  [1e+00, 1e+00]\n",
      "  Bounds range     [1e+00, 1e+00]\n",
      "  RHS range        [4e+00, 1e+03]\n",
      "Presolve removed 31 rows and 12 columns\n",
      "Presolve time: 0.00s\n",
      "Presolved: 4 rows, 4 columns, 10 nonzeros\n",
      "Variable types: 3 continuous, 1 integer (1 binary)\n",
      "Found heuristic solution: objective 73.0000000\n",
      "\n",
      "Explored 0 nodes (0 simplex iterations) in 0.05 seconds (0.00 work units)\n",
      "Thread count was 8 (of 8 available processors)\n",
      "\n",
      "Solution count 1: 73 \n",
      "\n",
      "Optimal solution found (tolerance 1.00e-04)\n",
      "Best objective 7.300000000000e+01, best bound 7.300000000000e+01, gap 0.0000%\n",
      "\n",
      "SOLUTION:\n",
      "<gurobi.Var Cmax (value 73.0)>\n"
     ]
    }
   ],
   "source": [
    "import gurobipy as grb  # import Gurobi module\n",
    "\n",
    "# model -----------------------------------------------------\n",
    "model = grb.Model()\n",
    "\n",
    "n = 5\n",
    "params = {\n",
    "    0: {'r': 20, 'd': 45, 'p': 15},\n",
    "    1: {'r':  4, 'd': 30, 'p': 19},\n",
    "    2: {'r':  5, 'd': 80, 'p': 20},\n",
    "    3: {'r': 17, 'd': 70, 'p':  8},\n",
    "    4: {'r': 27, 'd': 66, 'p':  7}\n",
    "}\n",
    "\n",
    "# - ADD VARIABLES\n",
    "# lb = 0 (moc nemá smysl - lower bound)\n",
    "s = model.addVars(n, vtype=grb.GRB.CONTINUOUS, lb=0, name=\"s\")\n",
    "\n",
    "# matrix = []\n",
    "# for i in range (0,n):\n",
    "#     row = []\n",
    "#     matrix[i].append(row)\n",
    "#     for j in range (0,n):\n",
    "#         matrix[i][j].append(model.addVar(vtype=grb.GRB.BINARY, name=\"chrchel\"))\n",
    "\n",
    "x = {}\n",
    "\n",
    "for i in range (n):\n",
    "    for j in range (i):\n",
    "        x [i, j] = model.addVar(vtype=grb.GRB.BINARY, name=\"chrchel\")\n",
    "# - ADD CONSTRAINTS\n",
    "# each start musí být menší než konec\n",
    "# s[t] >= r[t]\n",
    "# každý konec musí být menší než deadlide\n",
    "# s[t] + p[t] <= d[t]\n",
    "# dáme si big M - každá dvojice bude mít binární operátor, který bude říkat, jestli dané jídlo je před jiným jídlem - podle \n",
    "Cmax = model.addVar(vtype=grb.GRB.CONTINUOUS, name=\"Cmax\")\n",
    "\n",
    "for i in range (n):\n",
    "    model.addConstr(s[i]+params[i][\"p\"] <= Cmax)\n",
    "\n",
    "    model.addConstr(s[i] >= params[i][\"r\"])\n",
    "    model.addConstr(s[i] + params[i][\"p\"] <= params[i][\"d\"])\n",
    "\n",
    "#ideál je použít za bigM největší deadline\n",
    "bigM = 1000\n",
    "\n",
    "for i in range (n):\n",
    "    for j in range (i):\n",
    "        model.addConstr(s[i]+params[i][\"p\"] <= s[j] + bigM * (1 - x[i, j]))\n",
    "        model.addConstr(s[j]+params[j][\"p\"] <= s[i] + bigM * x[i, j])\n",
    "\n",
    "# - SET OBJECTIVE\n",
    "model.setObjective(Cmax, grb.GRB.MINIMIZE)\n",
    "\n",
    "# call the solver -------------------------------------------\n",
    "model.optimize()\n",
    "\n",
    "# print the solution ----------------------------------------\n",
    "print('\\nSOLUTION:')\n",
    "print(Cmax)"
   ]
  },
  {
   "cell_type": "markdown",
   "metadata": {},
   "source": [
    "## Solution visualization"
   ]
  },
  {
   "cell_type": "code",
   "execution_count": 12,
   "metadata": {},
   "outputs": [
    {
     "data": {
      "text/plain": "<Figure size 720x144 with 1 Axes>",
      "image/png": "[encoded data removed]"
     },
     "metadata": {
      "needs_background": "light"
     },
     "output_type": "display_data"
    }
   ],
   "source": [
    "import matplotlib.pyplot as plt \n",
    "\n",
    "def plot_solution(s, p):\n",
    "    \"\"\"\n",
    "    s: solution vector\n",
    "    p: processing times\n",
    "    \"\"\"\n",
    "    fig = plt.figure(figsize=(10,2))\n",
    "    ax = plt.gca()\n",
    "    ax.set_xlabel('time')     \n",
    "    ax.grid(True) \n",
    "    ax.set_yticks([2.5])\n",
    "    ax.set_yticklabels([\"oven\"]) \n",
    "    eps = 0.25  # just to show spaces between the dishes\n",
    "    ax.broken_barh([(s[i], p[i]-eps) for i in range(len(s))], (0, 5), \n",
    "                   facecolors=('tab:orange', 'tab:green', 'tab:red', 'tab:blue', 'tab:gray'))\n",
    "\n",
    "# TODO: plot your solution\n",
    "plot_solution([23.0, 4.0, 53.0, 38.0, 46.0], [params[i][\"p\"] for i in range(n)])"
   ]
  },
  {
   "cell_type": "code",
   "execution_count": 12,
   "metadata": {},
   "outputs": [],
   "source": []
  }
 ],
 "metadata": {
  "kernelspec": {
   "display_name": "Python 3",
   "language": "python",
   "name": "python3"
  },
  "language_info": {
   "codemirror_mode": {
    "name": "ipython",
    "version": 3
   },
   "file_extension": ".py",
   "mimetype": "text/x-python",
   "name": "python",
   "nbconvert_exporter": "python",
   "pygments_lexer": "ipython3",
   "version": "3.10.2"
  }
 },
 "nbformat": 4,
 "nbformat_minor": 4
}