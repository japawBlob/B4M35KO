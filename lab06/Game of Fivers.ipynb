{
 "cells": [
  {
   "cell_type": "markdown",
   "metadata": {},
   "source": [
    "# Game of Fivers\n",
    "\n",
    "_Combinatorial Optimization course, FEE CTU in Prague. Created by [Industrial Informatics Department](http://industrialinformatics.fel.cvut.cz)._\n",
    "\n",
    "## Motivation\n",
    "\n",
    "Riddle: On a square board of size $(n \\times n)$ there lie $n^2$ stones. Every stone has two sides - white and black. In the beginning, all stones have the white side facing upwards.\n",
    "\n",
    "You may turn the stone (white to black or black to white), but if you do that, all the stones in its 4-neighborhood will be turned as well. You want to reach the state in which all the stones have their black sides facing upwards. \n",
    "\n",
    "What is the minimal number of moves you need to do? \n",
    "\n",
    "## Input\n",
    "\n",
    "You are given a positive integer $n \\geq 3$, representing the size of the board.\n"
   ]
  },
  {
   "cell_type": "code",
   "execution_count": 6,
   "metadata": {},
   "outputs": [],
   "source": [
    "n = 5"
   ]
  },
  {
   "cell_type": "markdown",
   "metadata": {},
   "source": [
    "## Output\n",
    "\n",
    "You should find a minimal number of moves that need to be done to reach the final states (all stones black). Also, you should provide the moves (e.g., a list of positions of the stones to be turned over).\n",
    "\n",
    "## Model"
   ]
  },
  {
   "cell_type": "code",
   "execution_count": 7,
   "metadata": {},
   "outputs": [
    {
     "ename": "TypeError",
     "evalue": "Cannot interpret '5' as a data type",
     "output_type": "error",
     "traceback": [
      "\u001B[1;31m---------------------------------------------------------------------------\u001B[0m",
      "\u001B[1;31mTypeError\u001B[0m                                 Traceback (most recent call last)",
      "Input \u001B[1;32mIn [7]\u001B[0m, in \u001B[0;36m<cell line: 16>\u001B[1;34m()\u001B[0m\n\u001B[0;32m     13\u001B[0m     \u001B[38;5;28;01mfor\u001B[39;00m j \u001B[38;5;129;01min\u001B[39;00m \u001B[38;5;28mrange\u001B[39m(\u001B[38;5;241m1\u001B[39m,n\u001B[38;5;241m+\u001B[39m\u001B[38;5;241m1\u001B[39m):\n\u001B[0;32m     14\u001B[0m         m\u001B[38;5;241m.\u001B[39maddConstr(x[i,j] \u001B[38;5;241m+\u001B[39m x[i\u001B[38;5;241m+\u001B[39m\u001B[38;5;241m1\u001B[39m, j] \u001B[38;5;241m+\u001B[39m x[i\u001B[38;5;241m-\u001B[39m\u001B[38;5;241m1\u001B[39m,j] \u001B[38;5;241m+\u001B[39m x[i,j\u001B[38;5;241m+\u001B[39m\u001B[38;5;241m1\u001B[39m] \u001B[38;5;241m+\u001B[39m x[i,j\u001B[38;5;241m-\u001B[39m\u001B[38;5;241m1\u001B[39m] \u001B[38;5;241m==\u001B[39m \u001B[38;5;241m2\u001B[39m\u001B[38;5;241m*\u001B[39mk[i,j] \u001B[38;5;241m+\u001B[39m \u001B[38;5;241m1\u001B[39m)\n\u001B[1;32m---> 16\u001B[0m X \u001B[38;5;241m=\u001B[39m \u001B[43mnp\u001B[49m\u001B[38;5;241;43m.\u001B[39;49m\u001B[43mzeros\u001B[49m\u001B[43m(\u001B[49m\u001B[38;5;241;43m5\u001B[39;49m\u001B[43m,\u001B[49m\u001B[38;5;241;43m5\u001B[39;49m\u001B[43m)\u001B[49m\n\u001B[0;32m     18\u001B[0m \u001B[38;5;66;03m# playing_field = [[False] for i in range (n+2)]\u001B[39;00m\n\u001B[0;32m     20\u001B[0m \u001B[38;5;28;01mfor\u001B[39;00m key, value \u001B[38;5;129;01min\u001B[39;00m m\u001B[38;5;241m.\u001B[39mgetAttr(\u001B[38;5;124m\"\u001B[39m\u001B[38;5;124mstone\u001B[39m\u001B[38;5;124m\"\u001B[39m, x)\u001B[38;5;241m.\u001B[39mitems():\n",
      "\u001B[1;31mTypeError\u001B[0m: Cannot interpret '5' as a data type"
     ]
    }
   ],
   "source": [
    "import gurobipy as g\n",
    "import numpy as np\n",
    "\n",
    "m = g.Model()\n",
    "\n",
    "x = m.addVars( n+2, n+2, vtype=g.GRB.BINARY, name = \"stone\")\n",
    "\n",
    "k = m.addVars( range(1,n+1), range(1,n+1), vtype=g.GRB.INTEGER, lb=0 )\n",
    "\n",
    "m.addConstrs(x[0,i] + x[i,0] + x[n+1, i] + x[i, n+1] == 0 for i in range (0,n+2))\n",
    "\n",
    "for i in range(1,n+1):\n",
    "    for j in range(1,n+1):\n",
    "        m.addConstr(x[i,j] + x[i+1, j] + x[i-1,j] + x[i,j+1] + x[i,j-1] == 2*k[i,j] + 1)\n",
    "\n",
    "X = np.zeros(5,5)\n",
    "\n",
    "# playing_field = [[False] for i in range (n+2)]\n",
    "\n",
    "for key, value in m.getAttr(\"stone\", x).items():\n",
    "    if n+1 > key[0] > 0 and n+1 > key[1] > 0:\n",
    "        X[key[0]-1, key[1]-1] = value\n",
    "\n",
    "m.setObjective(x.sum(), sense=g.GRB.MINIMIZE)\n",
    "\n",
    "m.optimize()\n",
    "\n",
    "\n"
   ]
  },
  {
   "cell_type": "markdown",
   "metadata": {},
   "source": [
    " ##  Visualization"
   ]
  },
  {
   "cell_type": "code",
   "execution_count": null,
   "metadata": {},
   "outputs": [],
   "source": [
    "import matplotlib.pyplot as plt\n",
    "import numpy as np\n",
    "\n",
    "def visualize(board, n):\n",
    "    board = np.array(board)\n",
    "    clicks = np.argwhere(board == 1)\n",
    "    plt.imshow(board, interpolation='none')\n",
    "    plt.scatter(clicks[:, 1], clicks[:, 0], c='red')\n",
    "    plt.gca().set_xticks(np.arange(-0.5, n, 1))\n",
    "    plt.gca().set_xticklabels([])\n",
    "    plt.gca().set_yticks(np.arange(-0.5, n, 1))\n",
    "    plt.gca().set_yticklabels([])\n",
    "    plt.grid()\n",
    "    plt.show()\n",
    "    \n",
    "visualize(X, n)"
   ]
  },
  {
   "cell_type": "markdown",
   "metadata": {},
   "source": [
    "## Additional exercise\n",
    "\n",
    "- Try to experiment with the model for different values of parameter $n$.\n",
    "- See, how far is the model scalable (i.e., is it able to solve the problem for n ~ 10, n ~ 100, or even more in a reasonable time?)."
   ]
  },
  {
   "cell_type": "code",
   "execution_count": null,
   "metadata": {},
   "outputs": [],
   "source": []
  }
 ],
 "metadata": {
  "kernelspec": {
   "display_name": "Python 3 (ipykernel)",
   "language": "python",
   "name": "python3"
  },
  "language_info": {
   "codemirror_mode": {
    "name": "ipython",
    "version": 3
   },
   "file_extension": ".py",
   "mimetype": "text/x-python",
   "name": "python",
   "nbconvert_exporter": "python",
   "pygments_lexer": "ipython3",
   "version": "3.9.6"
  }
 },
 "nbformat": 4,
 "nbformat_minor": 2
}