{
 "cells": [
  {
   "cell_type": "markdown",
   "id": "344e0238",
   "metadata": {},
   "source": [
    "# Call center scheduling"
   ]
  },
  {
   "cell_type": "code",
   "execution_count": 8,
   "id": "0137c9f0",
   "metadata": {},
   "outputs": [],
   "source": [
    "%matplotlib inline\n",
    "import gurobipy as g\n",
    "import matplotlib.pyplot as plt"
   ]
  },
  {
   "cell_type": "code",
   "execution_count": 9,
   "id": "7f9aa16b",
   "metadata": {},
   "outputs": [],
   "source": [
    "d = [6, 6, 6, 6, 6, 8, 9, 12, 18, 22, 25, 21, 21, 20, 18, 21, 21, 24, 24, 18, 18, 18, 12, 8]"
   ]
  },
  {
   "cell_type": "code",
   "execution_count": 10,
   "id": "25bcbb1e",
   "metadata": {},
   "outputs": [
    {
     "name": "stdout",
     "output_type": "stream",
     "text": [
      "Gurobi Optimizer version 9.5.1 build v9.5.1rc2 (win64)\n",
      "Thread count: 4 physical cores, 8 logical processors, using up to 8 threads\n",
      "Optimize a model with 72 rows, 48 columns and 456 nonzeros\n",
      "Model fingerprint: 0x57f23132\n",
      "Variable types: 0 continuous, 48 integer (0 binary)\n",
      "Coefficient statistics:\n",
      "  Matrix range     [1e+00, 1e+00]\n",
      "  Objective range  [1e+00, 1e+00]\n",
      "  Bounds range     [0e+00, 0e+00]\n",
      "  RHS range        [6e+00, 3e+01]\n",
      "Found heuristic solution: objective 368.0000000\n",
      "Presolve removed 24 rows and 0 columns\n",
      "Presolve time: 0.00s\n",
      "Presolved: 48 rows, 48 columns, 432 nonzeros\n",
      "Variable types: 0 continuous, 48 integer (0 binary)\n",
      "Found heuristic solution: objective 344.0000000\n",
      "\n",
      "Root relaxation: objective 2.800000e+01, 31 iterations, 0.00 seconds (0.00 work units)\n",
      "\n",
      "    Nodes    |    Current Node    |     Objective Bounds      |     Work\n",
      " Expl Unexpl |  Obj  Depth IntInf | Incumbent    BestBd   Gap | It/Node Time\n",
      "\n",
      "*    0     0               0      28.0000000   28.00000  0.00%     -    0s\n",
      "\n",
      "Explored 1 nodes (31 simplex iterations) in 0.03 seconds (0.00 work units)\n",
      "Thread count was 8 (of 8 available processors)\n",
      "\n",
      "Solution count 3: 28 344 368 \n",
      "\n",
      "Optimal solution found (tolerance 1.00e-04)\n",
      "Best objective 2.800000000000e+01, best bound 2.800000000000e+01, gap 0.0000%\n",
      "\n",
      "28\n",
      "0 0 0 6 0 2 4 0 6 4 0 5 0 0 3 3 6 6 0 0 0 0 0 0 \n"
     ]
    }
   ],
   "source": [
    "m = g.Model()\n",
    "\n",
    "x = m.addVars(24, vtype=g.GRB.INTEGER)\n",
    "z = m.addVars(24, vtype=g.GRB.INTEGER)\n",
    "\n",
    "small_sum = []\n",
    "\n",
    "for i in range(24):\n",
    "    blob = 0\n",
    "    for j in range(i-7, i+1):\n",
    "        blob += x[j % 24]\n",
    "    small_sum.append(blob)\n",
    "    # z.append(d[i]-small_sum[i])\n",
    "\n",
    "for i in range(24):\n",
    "    m.addConstr(small_sum[i]-d[i] <= z[i])\n",
    "    m.addConstr(d[i]-small_sum[i] <= z[i])\n",
    "    m.addConstr(z[i] >= 0)\n",
    "\n",
    "\n",
    "m.setObjective(g.quicksum(z), g.GRB.MINIMIZE)\n",
    "\n",
    "m.optimize()\n",
    "print()\n",
    "print(int(m.objVal))\n",
    "for i in range(24):\n",
    "    print(int(x[i].x), end=\" \")\n",
    "print()"
   ]
  },
  {
   "cell_type": "code",
   "execution_count": 11,
   "id": "24cb33f9",
   "metadata": {},
   "outputs": [
    {
     "data": {
      "text/plain": "<Figure size 576x288 with 1 Axes>",
      "image/png": "[encoded data removed]"
     },
     "metadata": {
      "needs_background": "light"
     },
     "output_type": "display_data"
    }
   ],
   "source": [
    "def plot_shifts(x_start):\n",
    "    num_shifts = [sum([x_start[k % 24] for k in range(i-7, i+1)]) for i in range(24)]\n",
    "    margin = 0.2\n",
    "    width = 0.3\n",
    "    plt.figure(figsize=(8, 4))\n",
    "    plt.bar([h + margin for h in range(24)], d, width=width, color='green')\n",
    "    plt.bar([h + margin + width for h in range(24)], num_shifts, width=width, color='yellow')\n",
    "    plt.xlabel(\"hour\")\n",
    "    plt.legend(['demand', 'number shifts'], ncol=2, bbox_to_anchor=(0.8, 1.1))\n",
    "    plt.xlim(0, 24)\n",
    "    plt.ylim(0, max(num_shifts + d) + 1)\n",
    "    plt.xticks(range(24), [i % 24 for i in range(24)])\n",
    "    plt.grid()\n",
    "    plt.show()\n",
    "    \n",
    "plot_shifts([x[i].x for i in range(24)])"
   ]
  },
  {
   "cell_type": "code",
   "execution_count": 11,
   "id": "8f014dac",
   "metadata": {},
   "outputs": [],
   "source": []
  }
 ],
 "metadata": {
  "kernelspec": {
   "display_name": "Python 3 (ipykernel)",
   "language": "python",
   "name": "python3"
  },
  "language_info": {
   "codemirror_mode": {
    "name": "ipython",
    "version": 3
   },
   "file_extension": ".py",
   "mimetype": "text/x-python",
   "name": "python",
   "nbconvert_exporter": "python",
   "pygments_lexer": "ipython3",
   "version": "3.9.6"
  }
 },
 "nbformat": 4,
 "nbformat_minor": 5
}